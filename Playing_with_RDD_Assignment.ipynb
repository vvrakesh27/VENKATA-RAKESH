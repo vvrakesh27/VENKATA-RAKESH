{
  "nbformat": 4,
  "nbformat_minor": 0,
  "metadata": {
    "colab": {
      "provenance": [],
      "authorship_tag": "ABX9TyO+VOKQ91NwToo16RoZ1xWV",
      "include_colab_link": true
    },
    "kernelspec": {
      "name": "python3",
      "display_name": "Python 3"
    },
    "language_info": {
      "name": "python"
    }
  },
  "cells": [
    {
      "cell_type": "markdown",
      "metadata": {
        "id": "view-in-github",
        "colab_type": "text"
      },
      "source": [
        "<a href=\"https://colab.research.google.com/github/vvrakesh27/VENKATA-RAKESH/blob/main/Playing_with_RDD_Assignment.ipynb\" target=\"_parent\"><img src=\"https://colab.research.google.com/assets/colab-badge.svg\" alt=\"Open In Colab\"/></a>"
      ]
    },
    {
      "cell_type": "markdown",
      "source": [
        "****PySpark Installation****"
      ],
      "metadata": {
        "id": "Hoj7uH7Hv8Yr"
      }
    },
    {
      "cell_type": "code",
      "execution_count": null,
      "metadata": {
        "id": "Lx-dooCMuzZw"
      },
      "outputs": [],
      "source": [
        "#install Apache Spark 3.0.1 with Hadoop 2.7 from here.\n",
        "!wget https://archive.apache.org/dist/spark/spark-3.0.0/spark-3.0.0-bin-hadoop2.7.tgz\n",
        "\n",
        "\n",
        "# Now, we just need to unzip that folder.\n",
        "!tar -xvzf spark-3.0.0-bin-hadoop2.7.tgz\n",
        "!pip install findspark\n",
        "\n",
        "\n",
        "\n",
        "\n",
        "import os\n",
        "os.environ[\"SPARK_HOME\"] = \"/content/spark-3.0.0-bin-hadoop2.7\"\n",
        "import findspark\n",
        "findspark.init()"
      ]
    },
    {
      "cell_type": "markdown",
      "source": [
        "**Spark session**"
      ],
      "metadata": {
        "id": "ViBcD3bQv3D3"
      }
    },
    {
      "cell_type": "code",
      "source": [
        "from pyspark.sql import SparkSession\n",
        "spark = SparkSession.builder.master(\"local\").appName(\"Spark Demo App\").getOrCreate()\n",
        "sc = spark.sparkContext\n"
      ],
      "metadata": {
        "id": "9uFGFeDSu5Un"
      },
      "execution_count": 5,
      "outputs": []
    },
    {
      "cell_type": "markdown",
      "source": [
        "**Problem Statement 01:**\n",
        "\n",
        "Create and RDD[String] as shown below\n",
        "\n",
        "['C Programming','C++','Java','Scala','Python' ]"
      ],
      "metadata": {
        "id": "7bml6OPB2XfJ"
      }
    },
    {
      "cell_type": "code",
      "source": [
        "string_values = ['C Programming','C++','Java','Scala','Python']\n",
        "string_rdd = sc.parallelize(string_values)\n",
        "print(type(string_rdd))\n",
        "string_rdd.collect()\n",
        "\n"
      ],
      "metadata": {
        "colab": {
          "base_uri": "https://localhost:8080/"
        },
        "id": "CBqn4cWswJ8J",
        "outputId": "cba78bbd-d1c5-47bc-8d8c-fca236a1e65e"
      },
      "execution_count": 41,
      "outputs": [
        {
          "output_type": "stream",
          "name": "stdout",
          "text": [
            "<class 'pyspark.rdd.RDD'>\n"
          ]
        },
        {
          "output_type": "execute_result",
          "data": {
            "text/plain": [
              "['C Programming', 'C++', 'Java', 'Scala', 'Python']"
            ]
          },
          "metadata": {},
          "execution_count": 41
        }
      ]
    },
    {
      "cell_type": "markdown",
      "source": [
        "**1. Print the elements which are greater than length 5**"
      ],
      "metadata": {
        "id": "ouM2u6Zw21u-"
      }
    },
    {
      "cell_type": "code",
      "source": [
        "string_rdd_len_grt_5 = tech_rdd.filter(lambda x : len(x)>5)\n",
        "list_len = string_rdd_len_grt_5.collect()\n",
        "for i in list_len:\n",
        "  print(i)\n"
      ],
      "metadata": {
        "colab": {
          "base_uri": "https://localhost:8080/"
        },
        "id": "pxAAL58N2_Yd",
        "outputId": "a7b8f909-af72-41b4-97b4-42146756ffe4"
      },
      "execution_count": 46,
      "outputs": [
        {
          "output_type": "stream",
          "name": "stdout",
          "text": [
            "C Programming\n",
            "Python\n"
          ]
        }
      ]
    },
    {
      "cell_type": "markdown",
      "source": [
        "**2. Print the elements in reverse order.**\n",
        "\n"
      ],
      "metadata": {
        "id": "MRPeIEIVES11"
      }
    },
    {
      "cell_type": "code",
      "source": [
        "for i in reversed(list_len):\n",
        "  print(i)"
      ],
      "metadata": {
        "colab": {
          "base_uri": "https://localhost:8080/"
        },
        "id": "VYExZH2iEYEp",
        "outputId": "fd80df28-9cd1-4c5a-d8c8-d71754bb8500"
      },
      "execution_count": 47,
      "outputs": [
        {
          "output_type": "stream",
          "name": "stdout",
          "text": [
            "Python\n",
            "C Programming\n"
          ]
        }
      ]
    },
    {
      "cell_type": "markdown",
      "source": [
        "**Problem Statement 02:**\n",
        "\n",
        "Generate an RDD[Int] which is multiples of 1024 lets say the numbers are in kilobytes and we\n",
        "want to convert each element to its respective MB and perform the following tasks.\n"
      ],
      "metadata": {
        "id": "LJLLg7SnGheW"
      }
    },
    {
      "cell_type": "code",
      "source": [
        "int_ele = [102400,112640000,30720,2048,21504000]\n",
        "kb_rdd = sc.parallelize(int_ele)\n",
        "kb_rdd.collect()"
      ],
      "metadata": {
        "colab": {
          "base_uri": "https://localhost:8080/"
        },
        "id": "Ed5eHOWPGqUP",
        "outputId": "239f89b7-883b-495b-a2bc-a10748f840e1"
      },
      "execution_count": 73,
      "outputs": [
        {
          "output_type": "execute_result",
          "data": {
            "text/plain": [
              "[102400, 112640000, 30720, 2048, 21504000]"
            ]
          },
          "metadata": {},
          "execution_count": 73
        }
      ]
    },
    {
      "cell_type": "markdown",
      "source": [
        "**1. Convert each element of RDD to its respective MB.**"
      ],
      "metadata": {
        "id": "74oV_hxSIEOR"
      }
    },
    {
      "cell_type": "code",
      "source": [
        "mb_rdd = kb_rdd.map(lambda ele : ele/1024)\n",
        "mb_ele = mb_rdd.collect()\n",
        "print(\"Elements converted from kb to MB are :\")\n",
        "for i in mb_ele:\n",
        "  print(i,\"MB\")"
      ],
      "metadata": {
        "colab": {
          "base_uri": "https://localhost:8080/"
        },
        "id": "smnEYFo5IRLc",
        "outputId": "ee8795c3-514e-4169-e1a3-5a66343d4ec2"
      },
      "execution_count": 81,
      "outputs": [
        {
          "output_type": "stream",
          "name": "stdout",
          "text": [
            "Elements converted from kb to MB are :\n",
            "100.0 MB\n",
            "110000.0 MB\n",
            "30.0 MB\n",
            "2.0 MB\n",
            "21000.0 MB\n"
          ]
        }
      ]
    },
    {
      "cell_type": "markdown",
      "source": [
        "**2. Filter elements which are greater than 10 MB**"
      ],
      "metadata": {
        "id": "_QaHSM8kJZha"
      }
    },
    {
      "cell_type": "code",
      "source": [
        "fil_rdd = mb_rdd.filter(lambda ele : ele>10)\n",
        "fil_ele = fil_rdd.collect()\n",
        "print(\"Elements greater then 10 MB are:\")\n",
        "for i in fil_ele:\n",
        "  print(i,\"MB\")"
      ],
      "metadata": {
        "colab": {
          "base_uri": "https://localhost:8080/"
        },
        "id": "lQ4Sh-xKJefx",
        "outputId": "d4116d8f-961c-4863-c40b-6eefa538f151"
      },
      "execution_count": 79,
      "outputs": [
        {
          "output_type": "stream",
          "name": "stdout",
          "text": [
            "Elements greater then 10 MB are:\n",
            "100.0 MB\n",
            "110000.0 MB\n",
            "30.0 MB\n",
            "21000.0 MB\n"
          ]
        }
      ]
    },
    {
      "cell_type": "markdown",
      "source": [
        "**3. Apply transformation to convert MB to GB**"
      ],
      "metadata": {
        "id": "Eh-2ZL6aKWS5"
      }
    },
    {
      "cell_type": "code",
      "source": [
        "gb_rdd = mb_rdd.map(lambda ele : ele/1024)\n",
        "gb_ele = gb_rdd.collect()\n",
        "print(\"Elements converted from MB to GB are :\")\n",
        "for i in gb_ele:\n",
        "  print(i,\"GB\")"
      ],
      "metadata": {
        "colab": {
          "base_uri": "https://localhost:8080/"
        },
        "id": "iDZsayvzKar5",
        "outputId": "1928ece2-e518-4358-a8cf-7ddbb58f1e91"
      },
      "execution_count": 82,
      "outputs": [
        {
          "output_type": "stream",
          "name": "stdout",
          "text": [
            "Elements converted from MB to GB are :\n",
            "0.09765625 GB\n",
            "107.421875 GB\n",
            "0.029296875 GB\n",
            "0.001953125 GB\n",
            "20.5078125 GB\n"
          ]
        }
      ]
    }
  ]
}
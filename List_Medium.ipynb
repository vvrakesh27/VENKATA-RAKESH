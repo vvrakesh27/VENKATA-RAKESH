{
  "nbformat": 4,
  "nbformat_minor": 0,
  "metadata": {
    "colab": {
      "provenance": [],
      "authorship_tag": "ABX9TyNQFUrprxdhIwcwlOKGPPsl",
      "include_colab_link": true
    },
    "kernelspec": {
      "name": "python3",
      "display_name": "Python 3"
    },
    "language_info": {
      "name": "python"
    }
  },
  "cells": [
    {
      "cell_type": "markdown",
      "metadata": {
        "id": "view-in-github",
        "colab_type": "text"
      },
      "source": [
        "<a href=\"https://colab.research.google.com/github/vvrakesh27/VENKATA-RAKESH/blob/main/List_Medium.ipynb\" target=\"_parent\"><img src=\"https://colab.research.google.com/assets/colab-badge.svg\" alt=\"Open In Colab\"/></a>"
      ]
    },
    {
      "cell_type": "markdown",
      "source": [
        "Problem Statement 1: Print only unique "
      ],
      "metadata": {
        "id": "pdtiyyUjkNkp"
      }
    },
    {
      "cell_type": "code",
      "source": [
        "L=[1,1,1,1,2,2,3,3,3,3,4,5]\n",
        "U=[]\n",
        "\n",
        "[U.append(L[i]) if L[i] not in U else \"\" for i in range(len(L))]\n",
        "print(U)"
      ],
      "metadata": {
        "colab": {
          "base_uri": "https://localhost:8080/"
        },
        "id": "yTHBcdzPvNxU",
        "outputId": "073af900-8138-4ae4-fa10-6a8ea8915c69"
      },
      "execution_count": null,
      "outputs": [
        {
          "output_type": "stream",
          "name": "stdout",
          "text": [
            "[1, 2, 3, 4, 5]\n"
          ]
        }
      ]
    },
    {
      "cell_type": "markdown",
      "source": [
        "Problem Statement 2: Check if the given number exists in the list."
      ],
      "metadata": {
        "id": "meaXGxcrydis"
      }
    },
    {
      "cell_type": "code",
      "source": [
        "L=[1,2,3,4,[4,3]]\n",
        "ind=0\n",
        "N=int(input(\"Enter a number to check if its exits in the list or not:\"))\n",
        "for i in range(len(L)):\n",
        "  if type(L[i])==list:\n",
        "    if N in L[i]:\n",
        "      print(\"Yes the number\",N,\"exist in List\")\n",
        "  elif N in L:\n",
        "      print(\"Yes the number\",N,\"exist in List\")\n",
        "      ind=1\n",
        "      break\n",
        "if ind==0:\n",
        "  print(\"No the number\",N,\"does not exist in List\")\n",
        "      \n",
        "\n"
      ],
      "metadata": {
        "colab": {
          "base_uri": "https://localhost:8080/"
        },
        "id": "wldmxEO7ynOi",
        "outputId": "1dbd6afd-19c2-4f27-9476-b36dd75a9fb8"
      },
      "execution_count": null,
      "outputs": [
        {
          "output_type": "stream",
          "name": "stdout",
          "text": [
            "Enter a number to check if its exits in the list or not:4\n",
            "Yes the number 4 exist in List\n"
          ]
        }
      ]
    }
  ]
}
{
  "nbformat": 4,
  "nbformat_minor": 0,
  "metadata": {
    "colab": {
      "provenance": [],
      "authorship_tag": "ABX9TyO+FCfPIkn84P2PeoPLdeyK",
      "include_colab_link": true
    },
    "kernelspec": {
      "name": "python3",
      "display_name": "Python 3"
    },
    "language_info": {
      "name": "python"
    }
  },
  "cells": [
    {
      "cell_type": "markdown",
      "metadata": {
        "id": "view-in-github",
        "colab_type": "text"
      },
      "source": [
        "<a href=\"https://colab.research.google.com/github/vvrakesh27/VENKATA-RAKESH/blob/main/Venkata_Rakesh_Assignment_3.ipynb\" target=\"_parent\"><img src=\"https://colab.research.google.com/assets/colab-badge.svg\" alt=\"Open In Colab\"/></a>"
      ]
    },
    {
      "cell_type": "code",
      "execution_count": null,
      "metadata": {
        "colab": {
          "base_uri": "https://localhost:8080/"
        },
        "id": "qRDlMHJ1wo0u",
        "outputId": "9e0fcba3-93c5-4ee5-f16c-c7c2d6664798"
      },
      "outputs": [
        {
          "output_type": "stream",
          "name": "stdout",
          "text": [
            "20\n"
          ]
        }
      ],
      "source": [
        "#Name: Vasagiri Venkata Rakesh\n",
        "#GAME of \"Functions\"\n",
        "#Write a Python function to sum all the numbers in a list.\n",
        "\n",
        "def sum_lis(l):\n",
        "  sum_cnt=0\n",
        "  [sum_cnt:=sum_cnt+i for i in l]\n",
        "  return sum_cnt\n",
        "\n",
        "lis=[8, 2, 3, 0, 7]\n",
        "print(sum(lis))"
      ]
    },
    {
      "cell_type": "code",
      "source": [
        "#Name: Vasagiri Venkata Rakesh\n",
        "#String inside the function\n",
        "#Write a Python program to reverse a string.\n",
        "\n",
        "\n",
        "def rev_str(str):\n",
        "  rev_str=\"\"\n",
        "  [rev_str:=i+rev_str for i in str]\n",
        "  return rev_str\n",
        "\n",
        "\n",
        "str=\"1234abcd\"\n",
        "print(rev_str(str))\n",
        "\n",
        "\n"
      ],
      "metadata": {
        "colab": {
          "base_uri": "https://localhost:8080/"
        },
        "id": "cwCU7P75ziyh",
        "outputId": "9f92b903-ead4-42ce-d947-b9282ecf1b0f"
      },
      "execution_count": null,
      "outputs": [
        {
          "output_type": "stream",
          "name": "stdout",
          "text": [
            "dcba4321\n"
          ]
        }
      ]
    },
    {
      "cell_type": "code",
      "source": [
        "#Name: Vasagiri Venkata Rakesh\n",
        "#Calculate the upper and the lower case\n",
        "#Write a Python function that accepts a string and calculate the number of upper case letters and lower case letters.\n",
        "\n",
        "def cnt_upp_low(str):\n",
        "  up_cnt=[ 1 if i.isupper() else 0 for i in str]\n",
        "  low_cnt=[ 1 if i.islower() else 0 for i in str]\n",
        "  print(f\"No. of Upper case characters:{up_cnt.count(1)}\")\n",
        "  print(f\"No. of Lower case characters:{low_cnt.count(1)}\")\n",
        "\n",
        "str=input(\"Enter a string:\")\n",
        "cnt_upp_low(str)\n",
        "\n"
      ],
      "metadata": {
        "colab": {
          "base_uri": "https://localhost:8080/"
        },
        "id": "mDdweDVo5KG_",
        "outputId": "d2043162-c692-4d5b-f205-f8f033ee1915"
      },
      "execution_count": null,
      "outputs": [
        {
          "output_type": "stream",
          "name": "stdout",
          "text": [
            "Enter a string:The quick Brow Fox\n",
            "No. of Upper case characters:3\n",
            "No. of Lower case characters:12\n"
          ]
        }
      ]
    }
  ]
}
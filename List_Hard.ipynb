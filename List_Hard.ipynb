{
  "nbformat": 4,
  "nbformat_minor": 0,
  "metadata": {
    "colab": {
      "provenance": [],
      "authorship_tag": "ABX9TyN+xTpoYqE2BXYnQbE3NVcu",
      "include_colab_link": true
    },
    "kernelspec": {
      "name": "python3",
      "display_name": "Python 3"
    },
    "language_info": {
      "name": "python"
    }
  },
  "cells": [
    {
      "cell_type": "markdown",
      "metadata": {
        "id": "view-in-github",
        "colab_type": "text"
      },
      "source": [
        "<a href=\"https://colab.research.google.com/github/vvrakesh27/VENKATA-RAKESH/blob/main/List_Hard.ipynb\" target=\"_parent\"><img src=\"https://colab.research.google.com/assets/colab-badge.svg\" alt=\"Open In Colab\"/></a>"
      ]
    },
    {
      "cell_type": "markdown",
      "source": [
        "Problem statement 01: Grab only positive numbers in each nested list and put that in a new list."
      ],
      "metadata": {
        "id": "DbsXNPnr3gdg"
      }
    },
    {
      "cell_type": "code",
      "source": [
        "numbers_nested=[[1,-1,2],[0,-5,3,5,-2],[1,2,1,0,-2,-3]]\n",
        "P_list=[]\n",
        "for i in numbers_nested:\n",
        "  for j in i:\n",
        "    if j>0:\n",
        "      P_list.append(j)\n",
        "print(P_list)"
      ],
      "metadata": {
        "colab": {
          "base_uri": "https://localhost:8080/"
        },
        "id": "Z4KDUdBx3wBu",
        "outputId": "2a14f8e7-992b-4610-dbf3-c0873b13c030"
      },
      "execution_count": 2,
      "outputs": [
        {
          "output_type": "stream",
          "name": "stdout",
          "text": [
            "[1, 2, 3, 5, 1, 2, 1]\n"
          ]
        }
      ]
    },
    {
      "cell_type": "markdown",
      "source": [
        "Problem statement 02: Print the average sum of values from each inner lists and print the sum of each average."
      ],
      "metadata": {
        "id": "ve_4tlK551AZ"
      }
    },
    {
      "cell_type": "code",
      "source": [
        "L=[[1,2,3],[4,5,6,3],[-1,-2,-10,5,8]]\n",
        "U=[]\n",
        "for i in L:\n",
        "  sum=0\n",
        "  if type(i)==list:\n",
        "    for j in i:\n",
        "      sum=sum+j\n",
        "    if sum!=0 and i==L[len(L)-1]:\n",
        "      U.append(sum/len(i))\n",
        "      print(sum,\"/\",len(i),end=\" => \",sep=\"\")\n",
        "    elif sum!=0:\n",
        "      U.append(sum/len(i))\n",
        "      print(sum,\"/\",len(i),end=\" + \",sep=\"\")\n",
        "    elif sum==0 and i==L[len(L)-1]:\n",
        "      U.append(sum)\n",
        "      print(sum,end=\" => \",sep=\"\")\n",
        "    else:\n",
        "      U.append(sum)\n",
        "      print(sum,end=\"+\",sep=\"\")\n",
        "  else:\n",
        "    U.append(i)\n",
        "    print(i,end=\" + \")\n",
        "avg_sum=0\n",
        "for i in U:\n",
        "  if i==U[len(U)-1] and i!=0:\n",
        "    print(\" + \",i,end=\" => \",sep=\"\")\n",
        "  elif i==U[len(U)-1] and i==0:\n",
        "    print(end=\" => \",sep=\"\")\n",
        "  else:\n",
        "    if i==U[0]:\n",
        "      if i%int(i)==0:\n",
        "        print(int(i),end=\" \",sep=\"\")\n",
        "      else:\n",
        "        print(i,end=\" \",sep=\"\")\n",
        "    else:\n",
        "      if i%int(i)==0:\n",
        "        print(\" + \",int(i),end=\" \",sep=\"\")\n",
        "      else:\n",
        "        print(\" + \",i,end=\" \",sep=\"\")\n",
        "  avg_sum=avg_sum+i\n",
        "print(avg_sum,sep=\"\")"
      ],
      "metadata": {
        "colab": {
          "base_uri": "https://localhost:8080/"
        },
        "id": "1nJfvP7k6UMf",
        "outputId": "8488c440-65b8-4034-9dd0-078f651a894e"
      },
      "execution_count": null,
      "outputs": [
        {
          "output_type": "stream",
          "name": "stdout",
          "text": [
            "6/3 + 18/4 + 0 => 2  + 4.5  => 6.5\n"
          ]
        }
      ]
    }
  ]
}
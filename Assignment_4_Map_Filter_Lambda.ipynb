{
  "nbformat": 4,
  "nbformat_minor": 0,
  "metadata": {
    "colab": {
      "provenance": [],
      "authorship_tag": "ABX9TyPST4fA+s4AWnJf9IVHata8",
      "include_colab_link": true
    },
    "kernelspec": {
      "name": "python3",
      "display_name": "Python 3"
    },
    "language_info": {
      "name": "python"
    }
  },
  "cells": [
    {
      "cell_type": "markdown",
      "metadata": {
        "id": "view-in-github",
        "colab_type": "text"
      },
      "source": [
        "<a href=\"https://colab.research.google.com/github/vvrakesh27/VENKATA-RAKESH/blob/main/Assignment_4_Map_Filter_Lambda.ipynb\" target=\"_parent\"><img src=\"https://colab.research.google.com/assets/colab-badge.svg\" alt=\"Open In Colab\"/></a>"
      ]
    },
    {
      "cell_type": "markdown",
      "source": [
        "**Write a Python program to create a lambda function that adds 25 to a given number passed in as an argument.**"
      ],
      "metadata": {
        "id": "DHaZdDD8NKdG"
      }
    },
    {
      "cell_type": "code",
      "source": [
        "#Name: Vasagiri Venkata Rakesh\n",
        "#Write a Python program to create a lambda function that adds 25 to a given number passed in as an argument.\n",
        "\n",
        "lambda_f = lambda N: N+25 #Lambda Function\n",
        "lambda_f(int(input()))"
      ],
      "metadata": {
        "colab": {
          "base_uri": "https://localhost:8080/"
        },
        "id": "fHwWOFEkKknP",
        "outputId": "34302980-a235-4103-9da1-0fad9dda893a"
      },
      "execution_count": 25,
      "outputs": [
        {
          "name": "stdout",
          "output_type": "stream",
          "text": [
            "10\n"
          ]
        },
        {
          "output_type": "execute_result",
          "data": {
            "text/plain": [
              "35"
            ]
          },
          "metadata": {},
          "execution_count": 25
        }
      ]
    },
    {
      "cell_type": "markdown",
      "source": [
        "**Write a Python program to triple all numbers of a given list of integers. Use Python map.**"
      ],
      "metadata": {
        "id": "IUEF8JpwNSDP"
      }
    },
    {
      "cell_type": "code",
      "source": [
        "#Name: Vasagiri Venkata Rakesh\n",
        "#Write a Python program to triple all numbers of a given list of integers. Use Python map.\n",
        "\n",
        "L=[1, 2, 3, 4, 5, 6, 7]\n",
        "Triple=lambda N:N*3     # Lambda Function to triple the argument passing value N.\n",
        "Triple_L=list(map(Triple,L))    # map function calling Lambda to triple the list values.\n",
        "print(Triple_L)"
      ],
      "metadata": {
        "colab": {
          "base_uri": "https://localhost:8080/"
        },
        "id": "xVop57M_Mw3u",
        "outputId": "374afd7b-3cf0-4913-db17-b7e9c677fcc5"
      },
      "execution_count": 22,
      "outputs": [
        {
          "output_type": "stream",
          "name": "stdout",
          "text": [
            "[3, 6, 9, 12, 15, 18, 21]\n"
          ]
        }
      ]
    },
    {
      "cell_type": "markdown",
      "source": [
        "**Write a Python program to square the elements of a list using map() function.**"
      ],
      "metadata": {
        "id": "JW8Eo9EsNVWl"
      }
    },
    {
      "cell_type": "code",
      "source": [
        "#Name: Vasagiri Venkata Rakesh\n",
        "#Write a Python program to square the elements of a list using map() function.\n",
        "\n",
        "L=[4,5,2,9]\n",
        "Square=lambda N:N*N     # Lambda Function to square the argument passing value N.\n",
        "Sq_L=list(map(Square,L))    # map function calling Lambda to square the list values.\n",
        "print(Sq_L)"
      ],
      "metadata": {
        "colab": {
          "base_uri": "https://localhost:8080/"
        },
        "id": "j9hzOVcbNYkt",
        "outputId": "ed451f5c-23a2-4002-fb72-758341f91ea6"
      },
      "execution_count": 23,
      "outputs": [
        {
          "output_type": "stream",
          "name": "stdout",
          "text": [
            "[16, 25, 4, 81]\n"
          ]
        }
      ]
    }
  ]
}

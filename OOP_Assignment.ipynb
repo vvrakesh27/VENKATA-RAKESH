{
  "nbformat": 4,
  "nbformat_minor": 0,
  "metadata": {
    "colab": {
      "provenance": [],
      "authorship_tag": "ABX9TyNhjzhgyn21y1WklqCtUTXM",
      "include_colab_link": true
    },
    "kernelspec": {
      "name": "python3",
      "display_name": "Python 3"
    },
    "language_info": {
      "name": "python"
    }
  },
  "cells": [
    {
      "cell_type": "markdown",
      "metadata": {
        "id": "view-in-github",
        "colab_type": "text"
      },
      "source": [
        "<a href=\"https://colab.research.google.com/github/vvrakesh27/VENKATA-RAKESH/blob/main/OOP_Assignment.ipynb\" target=\"_parent\"><img src=\"https://colab.research.google.com/assets/colab-badge.svg\" alt=\"Open In Colab\"/></a>"
      ]
    },
    {
      "cell_type": "code",
      "execution_count": 14,
      "metadata": {
        "colab": {
          "base_uri": "https://localhost:8080/"
        },
        "id": "ZzrPkse4fR-M",
        "outputId": "354ee216-efe1-405d-dabb-e23f34b3f83e"
      },
      "outputs": [
        {
          "output_type": "stream",
          "name": "stdout",
          "text": [
            "35\n"
          ]
        }
      ],
      "source": [
        "#Name: Vasagiri Venkata Rakesh\n",
        "#Challenge 1: Square Numbers and Return Their Sum\n",
        "\n",
        "class Point:\n",
        "\n",
        "    def __init__(self,x,y,z):\n",
        "        self.x = x\n",
        "        self.y = y\n",
        "        self.z = z\n",
        "\n",
        "    def sqSum(self):\n",
        "        return(self.x**2+self.y**2+self.z**2)\n",
        "obj=Point(1,3,5)\n",
        "print(obj.sqSum())"
      ]
    },
    {
      "cell_type": "code",
      "source": [
        "#Name: Vasagiri Venkata Rakesh\n",
        "#Challenge 2: Implement a Calculator Class\n",
        "class Calculator:\n",
        "\n",
        "    def __init__(self,x,y):\n",
        "        self.x = x\n",
        "        self.y = y\n",
        "    def add(self):\n",
        "        return self.y+self.x\n",
        "    def subtract(self):\n",
        "        return self.y-self.x\n",
        "    def multiply(self):\n",
        "        return self.y*self.x\n",
        "    def divide(self):\n",
        "        return self.y/self.x\n",
        "\n",
        "obj = Calculator(10,94)\n",
        "print(obj.add())\n",
        "print(obj.subtract())\n",
        "print(obj.multiply())\n",
        "print(obj.divide())\n"
      ],
      "metadata": {
        "colab": {
          "base_uri": "https://localhost:8080/"
        },
        "id": "JhVEwCaNkB3W",
        "outputId": "8d2d5ba9-4f7a-45a2-818d-8104e3577216"
      },
      "execution_count": 29,
      "outputs": [
        {
          "output_type": "stream",
          "name": "stdout",
          "text": [
            "104\n",
            "84\n",
            "940\n",
            "9.4\n"
          ]
        }
      ]
    },
    {
      "cell_type": "code",
      "source": [
        "#Name: Vasagiri Venkata Rakesh\n",
        "#Challenge 3: Implement the Complete Student Class\n",
        "\n",
        "class Student:\n",
        "    def __init__(self,name=None,roll_num=None):\n",
        "        self.__student_name=name\n",
        "        self.__roll_number=roll_num\n",
        "    def setName(self,name):\n",
        "        self.__student_name=name\n",
        "    def getName(self):\n",
        "        return(self.__student_name)\n",
        "    def setRollNumber(self,roll_num):\n",
        "        self.__roll_number=roll_num\n",
        "    def getRollNumber(self):\n",
        "        return(self.__roll_number)\n",
        "\n",
        "s1=Student()\n",
        "print(s1.getName())\n",
        "s1.setName(\"Rakesh\")\n",
        "print(s1.getName())\n",
        "print(s1.getRollNumber())\n",
        "s1.setRollNumber(1234)\n",
        "print(s1.getRollNumber())"
      ],
      "metadata": {
        "colab": {
          "base_uri": "https://localhost:8080/"
        },
        "id": "40u44568nWuR",
        "outputId": "087585a6-36cf-4563-cfb4-a4a72d2ebf70"
      },
      "execution_count": 7,
      "outputs": [
        {
          "output_type": "stream",
          "name": "stdout",
          "text": [
            "None\n",
            "Rakesh\n",
            "None\n",
            "1234\n"
          ]
        }
      ]
    },
    {
      "cell_type": "code",
      "source": [
        "#Name: Vasagiri Venkata Rakesh\n",
        "#Challenge 4: Implement a Banking Account\n",
        "\n",
        "class Account:\n",
        "\n",
        "    def __init__(self,title=None,Balance=0):\n",
        "        self.title=title\n",
        "        self.Balance=Balance\n",
        "\n",
        "class SavingsAccount(Account):\n",
        "\n",
        "    def __init__(self,title=None,Balance=0,interestRate=0):\n",
        "        super().__init__(title,Balance)\n",
        "        self.interestRate=interestRate\n",
        "\n",
        "obj1=Account(\"Ashish\",500)\n",
        "obj2=SavingsAccount(\"Ashish\",500,5)\n",
        "print(obj2.title)\n",
        "print(obj2.Balance)\n",
        "print(obj2.interestRate)"
      ],
      "metadata": {
        "colab": {
          "base_uri": "https://localhost:8080/"
        },
        "id": "984n_H3kwMRh",
        "outputId": "141c0dfe-6236-4f44-8517-c9b3ce033467"
      },
      "execution_count": 10,
      "outputs": [
        {
          "output_type": "stream",
          "name": "stdout",
          "text": [
            "Ashish\n",
            "500\n",
            "5\n"
          ]
        }
      ]
    },
    {
      "cell_type": "code",
      "source": [
        "#Name: Vasagiri Venkata Rakesh\n",
        "#Challenge 5: Handling a Bank Account\n",
        "\n",
        "class Account:\n",
        "    def __init__(self, title=None, balance=0):\n",
        "        self.title = title\n",
        "        self.balance = balance\n",
        "    \n",
        "    def withdrawal(self, amount):\n",
        "        self.balance-=amount\n",
        "\n",
        "    def deposit(self, amount):\n",
        "        self.balance+=amount\n",
        "    def getBalance(self):\n",
        "        return self.balance\n",
        "        \n",
        "class SavingsAccount(Account):\n",
        "    def __init__(self, title=None, balance=0, interestRate=0):\n",
        "            super().__init__(title, balance)\n",
        "            self.interestRate = interestRate\n",
        "    \n",
        "    def interestAmount(self):\n",
        "        return(self.interestRate*self.getBalance())/100\n",
        "\n",
        "obj1 = SavingsAccount(\"Ashish\", 2000, 5)   # initializing a SavingsAccount object\n",
        "print(f\"Account holder Name:{obj1.title}\")\n",
        "print(f\"Account Balance: {obj1.getBalance()}\")\n",
        "obj1.deposit(500)\n",
        "print(f\"Account Balance after deposit: {obj1.getBalance()}\")\n",
        "obj1.withdrawal(100)\n",
        "print(f\"Account Balance after withdrawal: {obj1.getBalance()}\")\n",
        "print(f\"Interest for the balance amount:{obj1.interestAmount()}\")"
      ],
      "metadata": {
        "colab": {
          "base_uri": "https://localhost:8080/"
        },
        "id": "R9uRrohnMPnz",
        "outputId": "e6b4bbce-6a26-4b8f-bb48-3240e6301492"
      },
      "execution_count": 24,
      "outputs": [
        {
          "output_type": "stream",
          "name": "stdout",
          "text": [
            "Account holder Name:Ashish\n",
            "Account Balance: 2000\n",
            "Account Balance after deposit: 2500\n",
            "Account Balance after withdrawal: 2400\n",
            "Interest for the balance amount:120.0\n"
          ]
        }
      ]
    }
  ]
}
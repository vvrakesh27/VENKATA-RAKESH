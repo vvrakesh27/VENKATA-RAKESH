{
  "nbformat": 4,
  "nbformat_minor": 0,
  "metadata": {
    "colab": {
      "provenance": [],
      "authorship_tag": "ABX9TyOgoltTIGDn3jGwCCMhwCh3",
      "include_colab_link": true
    },
    "kernelspec": {
      "name": "python3",
      "display_name": "Python 3"
    },
    "language_info": {
      "name": "python"
    }
  },
  "cells": [
    {
      "cell_type": "markdown",
      "metadata": {
        "id": "view-in-github",
        "colab_type": "text"
      },
      "source": [
        "<a href=\"https://colab.research.google.com/github/vvrakesh27/VENKATA-RAKESH/blob/main/List_Easy.ipynb\" target=\"_parent\"><img src=\"https://colab.research.google.com/assets/colab-badge.svg\" alt=\"Open In Colab\"/></a>"
      ]
    },
    {
      "cell_type": "markdown",
      "source": [
        "Problem Statement 1:\n",
        "Given a list of Files"
      ],
      "metadata": {
        "id": "Yqy0-RJpb3ti"
      }
    },
    {
      "cell_type": "code",
      "execution_count": null,
      "metadata": {
        "colab": {
          "base_uri": "https://localhost:8080/"
        },
        "id": "tVnFObqea09d",
        "outputId": "56eb3882-9c97-41a9-827a-51fc17da4d70"
      },
      "outputs": [
        {
          "output_type": "stream",
          "name": "stdout",
          "text": [
            "['phone.jpg', 'view.jpg', 'bear.jpg']\n"
          ]
        }
      ],
      "source": [
        "filenames=['view.jpg','bear.jpg','ball.png']\n",
        "filenames.insert(0,'phone.jpg')\n",
        "filenames.pop()\n",
        "print(filenames)\n"
      ]
    },
    {
      "cell_type": "markdown",
      "source": [
        "Problem Statement 2: Given a list of Numbers"
      ],
      "metadata": {
        "id": "GSu37x8ldPXR"
      }
    },
    {
      "cell_type": "code",
      "source": [
        "L=[1,2,3,4,5,6,7,8,9,10]\n",
        "sum=0\n",
        "Maxi=0\n",
        "for i in range(len(L)):\n",
        "  if L[i]>Maxi:\n",
        "    Maxi=L[i]\n",
        "  sum=sum+L[i]\n",
        "Mini=Maxi\n",
        "for i in range(len(L)):\n",
        "  if L[i]<Mini:\n",
        "    Mini=L[i]\n",
        "print(\"List:\",L)\n",
        "print(\"Max element is :\",Maxi)\n",
        "print(\"Min element is :\",Mini)\n",
        "print(\"Average is :\",sum/len(L))"
      ],
      "metadata": {
        "colab": {
          "base_uri": "https://localhost:8080/"
        },
        "id": "dfnZl5LPdVKh",
        "outputId": "764b5862-ea2b-42c8-8989-48a521d94361"
      },
      "execution_count": null,
      "outputs": [
        {
          "output_type": "stream",
          "name": "stdout",
          "text": [
            "List: [1, 2, 3, 4, 5, 6, 7, 8, 9, 10]\n",
            "Max element is : 10\n",
            "Min element is : 1\n",
            "Average is : 5.5\n"
          ]
        }
      ]
    }
  ]
}
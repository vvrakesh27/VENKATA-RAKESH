{
  "nbformat": 4,
  "nbformat_minor": 0,
  "metadata": {
    "colab": {
      "provenance": [],
      "authorship_tag": "ABX9TyPJiLlv06iMJtmXDyD6BBIA",
      "include_colab_link": true
    },
    "kernelspec": {
      "name": "python3",
      "display_name": "Python 3"
    },
    "language_info": {
      "name": "python"
    }
  },
  "cells": [
    {
      "cell_type": "markdown",
      "metadata": {
        "id": "view-in-github",
        "colab_type": "text"
      },
      "source": [
        "<a href=\"https://colab.research.google.com/github/vvrakesh27/VENKATA-RAKESH/blob/main/DataFrame_Assignment.ipynb\" target=\"_parent\"><img src=\"https://colab.research.google.com/assets/colab-badge.svg\" alt=\"Open In Colab\"/></a>"
      ]
    },
    {
      "cell_type": "markdown",
      "source": [
        "**PySpark Installation**"
      ],
      "metadata": {
        "id": "c70V5mD6uAJj"
      }
    },
    {
      "cell_type": "code",
      "execution_count": null,
      "metadata": {
        "id": "RLCvowzqsqGT"
      },
      "outputs": [],
      "source": [
        "#install Apache Spark 3.0.1 with Hadoop 2.7 from here.\n",
        "!wget https://archive.apache.org/dist/spark/spark-3.0.0/spark-3.0.0-bin-hadoop2.7.tgz\n",
        "\n",
        "\n",
        "# Now, we just need to unzip that folder.\n",
        "!tar -xvzf spark-3.0.0-bin-hadoop2.7.tgz\n",
        "!pip install findspark\n",
        "\n",
        "\n",
        "\n",
        "\n",
        "import os\n",
        "os.environ[\"SPARK_HOME\"] = \"/content/spark-3.0.0-bin-hadoop2.7\"\n",
        "import findspark\n",
        "findspark.init()\n"
      ]
    },
    {
      "cell_type": "markdown",
      "source": [
        "**Spark Session**"
      ],
      "metadata": {
        "id": "mvfzG_Njt4sq"
      }
    },
    {
      "cell_type": "code",
      "source": [
        "from pyspark.sql import SparkSession\n",
        "spark = SparkSession.builder.master(\"local\").appName(\"Spark Demo App\").getOrCreate()\n",
        "sc = spark.sparkContext\n"
      ],
      "metadata": {
        "id": "Q5qgejxss7ey"
      },
      "execution_count": 35,
      "outputs": []
    },
    {
      "cell_type": "markdown",
      "source": [
        "**Read Json file**"
      ],
      "metadata": {
        "id": "QbE0FdPbt0xQ"
      }
    },
    {
      "cell_type": "code",
      "source": [
        "df = spark.read.option(\"multiline\", \"true\").json(\"user_03.json\")\n",
        "df.show(truncate=0)"
      ],
      "metadata": {
        "colab": {
          "base_uri": "https://localhost:8080/"
        },
        "id": "RorQ07MXs_la",
        "outputId": "d85b2098-0d32-4e13-a07a-bbe6c06692d9"
      },
      "execution_count": 37,
      "outputs": [
        {
          "output_type": "stream",
          "name": "stdout",
          "text": [
            "+-----------------------------------------+---+---------------------------+---------+-------+--------+----------------------------------------------+------+\n",
            "|address                                  |age|children                   |firstName|isAlive|lastName|phoneNumbers                                  |spouse|\n",
            "+-----------------------------------------+---+---------------------------+---------+-------+--------+----------------------------------------------+------+\n",
            "|[New York, 10021-3100, NY, 21 2nd Street]|27 |[Catherine, Thomas, Trevor]|John     |true   |Smith   |[[212 555-1234, home], [646 555-4567, office]]|null  |\n",
            "+-----------------------------------------+---+---------------------------+---------+-------+--------+----------------------------------------------+------+\n",
            "\n"
          ]
        }
      ]
    },
    {
      "cell_type": "markdown",
      "source": [
        "**Flattening the json file**"
      ],
      "metadata": {
        "id": "BWSno7NkuGhZ"
      }
    },
    {
      "cell_type": "code",
      "source": [
        "from pyspark.sql.functions import explode\n",
        "df_flat_ph = df.withColumn(\"phoneNumber\",explode(\"phoneNumbers\")).drop(\"phoneNumbers\")\n",
        "df_flat_ch = df_flat_ph.withColumn(\"child_name\",explode(\"children\")).drop(\"children\")\n",
        "df_flat = df_flat_ch.select(\"firstName\",\"lastName\",\"age\",\"isAlive\",\"spouse\",\"child_name\",\"address.*\",\"phoneNumber.*\")\n",
        "df_flat.show(truncate=0)"
      ],
      "metadata": {
        "colab": {
          "base_uri": "https://localhost:8080/"
        },
        "id": "4692q5kiuKoL",
        "outputId": "4eeea364-0695-4c30-92a9-f3560ac18114"
      },
      "execution_count": 45,
      "outputs": [
        {
          "output_type": "stream",
          "name": "stdout",
          "text": [
            "+---------+--------+---+-------+------+----------+--------+----------+-----+-------------+------------+------+\n",
            "|firstName|lastName|age|isAlive|spouse|child_name|city    |postalCode|state|streetAddress|number      |type  |\n",
            "+---------+--------+---+-------+------+----------+--------+----------+-----+-------------+------------+------+\n",
            "|John     |Smith   |27 |true   |null  |Catherine |New York|10021-3100|NY   |21 2nd Street|212 555-1234|home  |\n",
            "|John     |Smith   |27 |true   |null  |Thomas    |New York|10021-3100|NY   |21 2nd Street|212 555-1234|home  |\n",
            "|John     |Smith   |27 |true   |null  |Trevor    |New York|10021-3100|NY   |21 2nd Street|212 555-1234|home  |\n",
            "|John     |Smith   |27 |true   |null  |Catherine |New York|10021-3100|NY   |21 2nd Street|646 555-4567|office|\n",
            "|John     |Smith   |27 |true   |null  |Thomas    |New York|10021-3100|NY   |21 2nd Street|646 555-4567|office|\n",
            "|John     |Smith   |27 |true   |null  |Trevor    |New York|10021-3100|NY   |21 2nd Street|646 555-4567|office|\n",
            "+---------+--------+---+-------+------+----------+--------+----------+-----+-------------+------------+------+\n",
            "\n"
          ]
        }
      ]
    },
    {
      "cell_type": "markdown",
      "source": [
        "**Fetch all phone Numbers whose type is Office.**"
      ],
      "metadata": {
        "id": "-3JsTwM3xYIG"
      }
    },
    {
      "cell_type": "code",
      "source": [
        "office_ph_nbrs_df = df_flat.select(\"type\",\"number\").filter(df_flat.type==\"office\")\n",
        "office_ph_nbrs_df.show(truncate=0)"
      ],
      "metadata": {
        "colab": {
          "base_uri": "https://localhost:8080/"
        },
        "id": "JNGodemAuvXN",
        "outputId": "3adb54e8-271b-4b83-873a-15e206fdd3f1"
      },
      "execution_count": 46,
      "outputs": [
        {
          "output_type": "stream",
          "name": "stdout",
          "text": [
            "+------+------------+\n",
            "|type  |number      |\n",
            "+------+------------+\n",
            "|office|646 555-4567|\n",
            "|office|646 555-4567|\n",
            "|office|646 555-4567|\n",
            "+------+------------+\n",
            "\n"
          ]
        }
      ]
    }
  ]
}